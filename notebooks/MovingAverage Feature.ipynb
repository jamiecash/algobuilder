{
 "cells": [
  {
   "cell_type": "markdown",
   "id": "5356cc42",
   "metadata": {},
   "source": [
    "# Notebook for setup and use of moving average feature"
   ]
  },
  {
   "cell_type": "markdown",
   "id": "3fe0b6b8",
   "metadata": {},
   "source": [
    "## Imports and Django Setup"
   ]
  },
  {
   "cell_type": "code",
   "execution_count": 1,
   "id": "9fd77d27",
   "metadata": {},
   "outputs": [],
   "source": [
    "from datetime import timedelta\n",
    "import math\n",
    "import os\n",
    "import pandas as pd\n",
    "import django\n",
    "from django.db import connection\n",
    "\n",
    "from django.utils import timezone\n",
    "import logging\n",
    "import numpy as np\n",
    "from IPython.core.display import display, HTML\n",
    "os.chdir('..')\n",
    "\n",
    "# Allows async calls to django ORM in Jupyter. Required.\n",
    "os.environ.setdefault('DJANGO_SETTINGS_MODULE', 'rest.settings')\n",
    "os.environ[\"DJANGO_ALLOW_ASYNC_UNSAFE\"] = \"true\"\n",
    "django.setup()\n",
    "\n",
    "from django_celery_beat import models as cm\n",
    "\n",
    "from pricedata import models as pd_models\n",
    "from feature import models as ft_models\n",
    "from algobuilder.utils import DatabaseUtility"
   ]
  },
  {
   "cell_type": "markdown",
   "id": "489fcff8",
   "metadata": {},
   "source": [
    "## Add a feature execution for all active datasource symbols\n",
    "I will be setting up a 1 hour moving average against 1S candle data"
   ]
  },
  {
   "cell_type": "code",
   "execution_count": 11,
   "id": "589613d3",
   "metadata": {},
   "outputs": [
    {
     "data": {
      "text/plain": [
       "<QuerySet [FeatureExecution(feature=1 Hour Moving Average, name=1H-MAvg GBPUSD, active=True, FeatureExecution(feature=1 Hour Moving Average, name=1H-MAvg USDCHF, active=True, FeatureExecution(feature=1 Hour Moving Average, name=1H-MAvg USDJPY, active=True, FeatureExecution(feature=1 Hour Moving Average, name=1H-MAvg USDCNH, active=True, FeatureExecution(feature=1 Hour Moving Average, name=1H-MAvg USDRUB, active=True, FeatureExecution(feature=1 Hour Moving Average, name=1H-MAvg AUDUSD, active=True, FeatureExecution(feature=1 Hour Moving Average, name=1H-MAvg NZDUSD, active=True, FeatureExecution(feature=1 Hour Moving Average, name=1H-MAvg EURDKK, active=True, FeatureExecution(feature=1 Hour Moving Average, name=1H-MAvg USDCAD, active=True, FeatureExecution(feature=1 Hour Moving Average, name=1H-MAvg USDSEK, active=True, FeatureExecution(feature=1 Hour Moving Average, name=1H-MAvg USDHKD, active=True, FeatureExecution(feature=1 Hour Moving Average, name=1H-MAvg USDSGD, active=True, FeatureExecution(feature=1 Hour Moving Average, name=1H-MAvg USDNOK, active=True, FeatureExecution(feature=1 Hour Moving Average, name=1H-MAvg USDDKK, active=True, FeatureExecution(feature=1 Hour Moving Average, name=1H-MAvg USDTRY, active=True, FeatureExecution(feature=1 Hour Moving Average, name=1H-MAvg USDZAR, active=True, FeatureExecution(feature=1 Hour Moving Average, name=1H-MAvg USDCZK, active=True, FeatureExecution(feature=1 Hour Moving Average, name=1H-MAvg USDHUF, active=True, FeatureExecution(feature=1 Hour Moving Average, name=1H-MAvg USDPLN, active=True, FeatureExecution(feature=1 Hour Moving Average, name=1H-MAvg USDRUR, active=True, '...(remaining elements truncated)...']>"
      ]
     },
     "execution_count": 11,
     "metadata": {},
     "output_type": "execute_result"
    }
   ],
   "source": [
    "# Get all datasource symbols and the feature\n",
    "active_dss = pd_models.DataSourceSymbol.objects.filter(retrieve_price_data=True)\n",
    "feature = ft_models.Feature.objects.filter(name='1 Hour Moving Average')[0]\n",
    "\n",
    "# For each datasource symbol, create a feature exeuction and link the datasoure symbol\n",
    "for dss in active_dss:\n",
    "    fex = ft_models.FeatureExecution(feature=feature, name=f'1H-MAvg {dss.symbol.name}')\n",
    "    fex.save()\n",
    "    \n",
    "    fex_dss = ft_models.FeatureExecutionDataSourceSymbol(feature_execution=fex, datasource_symbol=dss, candle_period='1S')\n",
    "    fex_dss.save()\n",
    "\n",
    "# Show what we have\n",
    "ft_models.FeatureExecution.objects.all()"
   ]
  },
  {
   "cell_type": "markdown",
   "id": "de827b85",
   "metadata": {},
   "source": [
    "# Delete any childless feature executions"
   ]
  },
  {
   "cell_type": "code",
   "execution_count": 12,
   "id": "9b03e2f6",
   "metadata": {},
   "outputs": [],
   "source": [
    "fex_list = ft_models.FeatureExecution.objects.all()\n",
    "\n",
    "for fex in fex_list:\n",
    "    num_children = len(fex.featureexecutiondatasourcesymbol_set.all())\n",
    "    if num_children == 0:\n",
    "        print(f\"Deleting childless feature execution. {fex}.\")\n",
    "        fex.delete()"
   ]
  },
  {
   "cell_type": "markdown",
   "id": "6963d3fd",
   "metadata": {},
   "source": [
    "# Reconcile. We should have the same number of feature executions and feature execution datasource symbols."
   ]
  },
  {
   "cell_type": "code",
   "execution_count": 14,
   "id": "71682f51",
   "metadata": {},
   "outputs": [
    {
     "name": "stdout",
     "output_type": "stream",
     "text": [
      "Num feature executions: 70\n",
      "Num feature execution datasource symbols: 70\n"
     ]
    },
    {
     "data": {
      "text/plain": [
       "True"
      ]
     },
     "execution_count": 14,
     "metadata": {},
     "output_type": "execute_result"
    }
   ],
   "source": [
    "fex_list = ft_models.FeatureExecution.objects.all()\n",
    "fex_dss_list = ft_models.FeatureExecutionDataSourceSymbol.objects.all()\n",
    "\n",
    "# Are they all the same length\n",
    "print(f\"Num feature executions: {len(fex_list)}\")\n",
    "print(f\"Num feature execution datasource symbols: {len(fex_dss_list)}\")\n",
    "reconciles = (len(fex_list) == len(fex_dss_list))\n",
    "\n",
    "reconciles"
   ]
  },
  {
   "cell_type": "markdown",
   "id": "c8499641",
   "metadata": {},
   "source": [
    "# Check if we are getting any results\n",
    "Number of candles vs number of feature calculations"
   ]
  },
  {
   "cell_type": "code",
   "execution_count": 19,
   "id": "9cdb8c91",
   "metadata": {},
   "outputs": [
    {
     "name": "stdout",
     "output_type": "stream",
     "text": [
      "num_candles: 35493414. num_feature_calculations: 35493056. diff: 358\n"
     ]
    }
   ],
   "source": [
    "num_candles = pd_models.Candle.objects.count()\n",
    "num_fex_results = ft_models.FeatureExecutionResult.objects.count()\n",
    "print(f\"num_candles: {num_candles}. num_feature_calculations: {num_fex_results}. diff: {num_candles - num_fex_results}\")"
   ]
  },
  {
   "cell_type": "markdown",
   "id": "6c822ccf",
   "metadata": {},
   "source": [
    "# Plot a graph for one symbol showing price data vs moving average"
   ]
  },
  {
   "cell_type": "code",
   "execution_count": 68,
   "id": "3b6bd6d5",
   "metadata": {},
   "outputs": [
    {
     "data": {
      "text/html": [
       "<div>\n",
       "<style scoped>\n",
       "    .dataframe tbody tr th:only-of-type {\n",
       "        vertical-align: middle;\n",
       "    }\n",
       "\n",
       "    .dataframe tbody tr th {\n",
       "        vertical-align: top;\n",
       "    }\n",
       "\n",
       "    .dataframe thead th {\n",
       "        text-align: right;\n",
       "    }\n",
       "</style>\n",
       "<table border=\"1\" class=\"dataframe\">\n",
       "  <thead>\n",
       "    <tr style=\"text-align: right;\">\n",
       "      <th></th>\n",
       "    </tr>\n",
       "  </thead>\n",
       "  <tbody>\n",
       "  </tbody>\n",
       "</table>\n",
       "</div>"
      ],
      "text/plain": [
       "Empty DataFrame\n",
       "Columns: []\n",
       "Index: []"
      ]
     },
     "execution_count": 68,
     "metadata": {},
     "output_type": "execute_result"
    }
   ],
   "source": [
    "# Get the datasource symbol\n",
    "dss = pd_models.DataSourceSymbol.objects.filter(datasource__name='MT5', symbol__name='GBPUSD')[0]\n",
    "\n",
    "# Get the feature execution\n",
    "fex_dss = ft_models.FeatureExecutionDataSourceSymbol.objects.filter(datasource_symbol=dss)[0]\n",
    "fex = fex_dss.feature_execution\n",
    "\n",
    "# Get the candles and calculations as dataframes and join them by time\n",
    "#candles = pd.DataFrame(list(pd_models.Candle.objects.filter(datasource_symbol=dss)))\n",
    "results = pd.DataFrame(list(ft_models.FeatureExecutionResult.objects.filter(feature_execution=fex)))\n",
    "results"
   ]
  },
  {
   "cell_type": "code",
   "execution_count": null,
   "id": "a953c13e",
   "metadata": {},
   "outputs": [],
   "source": []
  }
 ],
 "metadata": {
  "kernelspec": {
   "display_name": "Django Shell-Plus",
   "language": "python",
   "name": "django_extensions"
  },
  "language_info": {
   "codemirror_mode": {
    "name": "ipython",
    "version": 3
   },
   "file_extension": ".py",
   "mimetype": "text/x-python",
   "name": "python",
   "nbconvert_exporter": "python",
   "pygments_lexer": "ipython3",
   "version": "3.8.6"
  }
 },
 "nbformat": 4,
 "nbformat_minor": 5
}
