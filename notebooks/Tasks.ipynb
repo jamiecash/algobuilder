{
 "cells": [
  {
   "cell_type": "markdown",
   "id": "45add993",
   "metadata": {},
   "source": [
    "# A notebook fro the adhoc running of tasks"
   ]
  },
  {
   "cell_type": "markdown",
   "id": "792fa573",
   "metadata": {},
   "source": [
    "## Imports and Django Setup"
   ]
  },
  {
   "cell_type": "code",
   "execution_count": 2,
   "id": "5dc13a2a",
   "metadata": {},
   "outputs": [],
   "source": [
    "from datetime import timedelta\n",
    "import math\n",
    "import os\n",
    "import pandas as pd\n",
    "import django\n",
    "from django.db import connection\n",
    "from django.utils import timezone\n",
    "import logging\n",
    "import numpy as np\n",
    "from IPython.core.display import display, HTML\n",
    "os.chdir('..')\n",
    "\n",
    "# Allows async calls to django ORM in Jupyter. Required.\n",
    "os.environ.setdefault('DJANGO_SETTINGS_MODULE', 'rest.settings')\n",
    "os.environ[\"DJANGO_ALLOW_ASYNC_UNSAFE\"] = \"true\"\n",
    "django.setup()\n",
    "\n",
    "from pricedata import models, tasks"
   ]
  },
  {
   "cell_type": "markdown",
   "id": "41ab5efe",
   "metadata": {},
   "source": [
    "# Retrieve symbols"
   ]
  },
  {
   "cell_type": "code",
   "execution_count": 6,
   "id": "76795db9",
   "metadata": {},
   "outputs": [
    {
     "data": {
      "text/plain": [
       "<AsyncResult: f32e2757-dcf9-466d-b433-dcf58737ecf8>"
      ]
     },
     "execution_count": 6,
     "metadata": {},
     "output_type": "execute_result"
    }
   ],
   "source": [
    "datasource_id = 23\n",
    "tasks.retrieve_symbols.delay(datasource_id)"
   ]
  },
  {
   "cell_type": "markdown",
   "id": "9cfd92cd",
   "metadata": {},
   "source": [
    "## Retrieve Prices"
   ]
  },
  {
   "cell_type": "code",
   "execution_count": 11,
   "id": "b47cdc80",
   "metadata": {},
   "outputs": [
    {
     "data": {
      "text/plain": [
       "<AsyncResult: cd36ba8d-55a5-42e5-8a0c-c2786e297a86>"
      ]
     },
     "execution_count": 11,
     "metadata": {},
     "output_type": "execute_result"
    }
   ],
   "source": [
    "datasourcecandleperiod_id = 1\n",
    "tasks.retrieve_prices.delay(datasourcecandleperiod_id)"
   ]
  },
  {
   "cell_type": "code",
   "execution_count": null,
   "id": "0fedca40",
   "metadata": {},
   "outputs": [],
   "source": []
  }
 ],
 "metadata": {
  "kernelspec": {
   "display_name": "Django Shell-Plus",
   "language": "python",
   "name": "django_extensions"
  },
  "language_info": {
   "codemirror_mode": {
    "name": "ipython",
    "version": 3
   },
   "file_extension": ".py",
   "mimetype": "text/x-python",
   "name": "python",
   "nbconvert_exporter": "python",
   "pygments_lexer": "ipython3",
   "version": "3.8.6"
  }
 },
 "nbformat": 4,
 "nbformat_minor": 5
}
